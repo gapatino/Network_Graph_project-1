{
 "cells": [
  {
   "cell_type": "markdown",
   "metadata": {},
   "source": [
    "<h1>Assignment one <h1>\n",
    " "
   ]
  },
  {
   "cell_type": "markdown",
   "metadata": {},
   "source": [
    "import statement"
   ]
  },
  {
   "cell_type": "code",
   "execution_count": 1,
   "metadata": {},
   "outputs": [],
   "source": [
    "import pandas as pd\n",
    "import numpy as np\n",
    "import networkx as nx\n",
    "import matplotlib.pyplot as plt\n",
    "from ipywidgets import interact, Select\n",
    "from IPython.display import display\n"
   ]
  },
  {
   "cell_type": "markdown",
   "metadata": {},
   "source": [
    "Importing the csv file as a dataset"
   ]
  },
  {
   "cell_type": "code",
   "execution_count": 2,
   "metadata": {},
   "outputs": [],
   "source": [
    "df= pd.read_csv('datasets\\dataset.csv')"
   ]
  },
  {
   "cell_type": "markdown",
   "metadata": {},
   "source": [
    "Displaying the dataset"
   ]
  },
  {
   "cell_type": "code",
   "execution_count": 3,
   "metadata": {},
   "outputs": [
    {
     "data": {
      "text/html": [
       "<div>\n",
       "<style scoped>\n",
       "    .dataframe tbody tr th:only-of-type {\n",
       "        vertical-align: middle;\n",
       "    }\n",
       "\n",
       "    .dataframe tbody tr th {\n",
       "        vertical-align: top;\n",
       "    }\n",
       "\n",
       "    .dataframe thead th {\n",
       "        text-align: right;\n",
       "    }\n",
       "</style>\n",
       "<table border=\"1\" class=\"dataframe\">\n",
       "  <thead>\n",
       "    <tr style=\"text-align: right;\">\n",
       "      <th></th>\n",
       "      <th>id</th>\n",
       "      <th>user_id</th>\n",
       "      <th>number_of_ticks</th>\n",
       "      <th>date_created</th>\n",
       "      <th>chapter</th>\n",
       "      <th>book</th>\n",
       "      <th>numberofentriesofbook</th>\n",
       "      <th>numberofusersofbook</th>\n",
       "      <th>product_manning_id</th>\n",
       "      <th>user_owns_book</th>\n",
       "    </tr>\n",
       "  </thead>\n",
       "  <tbody>\n",
       "    <tr>\n",
       "      <th>0</th>\n",
       "      <td>152396</td>\n",
       "      <td>2147303785</td>\n",
       "      <td>1</td>\n",
       "      <td>\"2019-12-12 06:41:37\"</td>\n",
       "      <td>about-this-book</td>\n",
       "      <td>kopec2</td>\n",
       "      <td>792</td>\n",
       "      <td>337</td>\n",
       "      <td>1073</td>\n",
       "      <td>0</td>\n",
       "    </tr>\n",
       "    <tr>\n",
       "      <th>1</th>\n",
       "      <td>155271</td>\n",
       "      <td>2147303785</td>\n",
       "      <td>2</td>\n",
       "      <td>\"2019-12-13 03:20:23\"</td>\n",
       "      <td>about-this-book</td>\n",
       "      <td>atencio</td>\n",
       "      <td>329</td>\n",
       "      <td>129</td>\n",
       "      <td>702</td>\n",
       "      <td>0</td>\n",
       "    </tr>\n",
       "    <tr>\n",
       "      <th>2</th>\n",
       "      <td>155365</td>\n",
       "      <td>2147303785</td>\n",
       "      <td>7</td>\n",
       "      <td>\"2019-12-13 04:29:29\"</td>\n",
       "      <td>about-this-book</td>\n",
       "      <td>nickoloff2</td>\n",
       "      <td>1985</td>\n",
       "      <td>552</td>\n",
       "      <td>902</td>\n",
       "      <td>0</td>\n",
       "    </tr>\n",
       "    <tr>\n",
       "      <th>3</th>\n",
       "      <td>155788</td>\n",
       "      <td>2147303785</td>\n",
       "      <td>2</td>\n",
       "      <td>\"2019-12-13 08:43:29\"</td>\n",
       "      <td>about-the-authors</td>\n",
       "      <td>nickoloff2</td>\n",
       "      <td>1985</td>\n",
       "      <td>552</td>\n",
       "      <td>902</td>\n",
       "      <td>0</td>\n",
       "    </tr>\n",
       "    <tr>\n",
       "      <th>4</th>\n",
       "      <td>157625</td>\n",
       "      <td>2147303785</td>\n",
       "      <td>1</td>\n",
       "      <td>\"2019-12-13 23:42:05\"</td>\n",
       "      <td>chapter-1</td>\n",
       "      <td>nickoloff2</td>\n",
       "      <td>1985</td>\n",
       "      <td>552</td>\n",
       "      <td>902</td>\n",
       "      <td>0</td>\n",
       "    </tr>\n",
       "    <tr>\n",
       "      <th>...</th>\n",
       "      <td>...</td>\n",
       "      <td>...</td>\n",
       "      <td>...</td>\n",
       "      <td>...</td>\n",
       "      <td>...</td>\n",
       "      <td>...</td>\n",
       "      <td>...</td>\n",
       "      <td>...</td>\n",
       "      <td>...</td>\n",
       "      <td>...</td>\n",
       "    </tr>\n",
       "    <tr>\n",
       "      <th>9994</th>\n",
       "      <td>26059</td>\n",
       "      <td>1890093722</td>\n",
       "      <td>6</td>\n",
       "      <td>\"2019-10-27 15:52:53\"</td>\n",
       "      <td>chapter-3</td>\n",
       "      <td>clinton3</td>\n",
       "      <td>598</td>\n",
       "      <td>157</td>\n",
       "      <td>920</td>\n",
       "      <td>1</td>\n",
       "    </tr>\n",
       "    <tr>\n",
       "      <th>9995</th>\n",
       "      <td>26075</td>\n",
       "      <td>1890093722</td>\n",
       "      <td>1</td>\n",
       "      <td>\"2019-10-27 16:02:50\"</td>\n",
       "      <td>chapter-6</td>\n",
       "      <td>clinton3</td>\n",
       "      <td>598</td>\n",
       "      <td>157</td>\n",
       "      <td>920</td>\n",
       "      <td>1</td>\n",
       "    </tr>\n",
       "    <tr>\n",
       "      <th>9996</th>\n",
       "      <td>26076</td>\n",
       "      <td>1890093722</td>\n",
       "      <td>1</td>\n",
       "      <td>\"2019-10-27 16:03:20\"</td>\n",
       "      <td>chapter-6</td>\n",
       "      <td>clinton3</td>\n",
       "      <td>598</td>\n",
       "      <td>157</td>\n",
       "      <td>920</td>\n",
       "      <td>1</td>\n",
       "    </tr>\n",
       "    <tr>\n",
       "      <th>9997</th>\n",
       "      <td>26104</td>\n",
       "      <td>1890093722</td>\n",
       "      <td>9</td>\n",
       "      <td>\"2019-10-27 16:26:34\"</td>\n",
       "      <td>chapter-12</td>\n",
       "      <td>clinton3</td>\n",
       "      <td>598</td>\n",
       "      <td>157</td>\n",
       "      <td>920</td>\n",
       "      <td>1</td>\n",
       "    </tr>\n",
       "    <tr>\n",
       "      <th>9998</th>\n",
       "      <td>26101</td>\n",
       "      <td>1890093722</td>\n",
       "      <td>28</td>\n",
       "      <td>\"2019-10-27 16:23:04\"</td>\n",
       "      <td>chapter-12</td>\n",
       "      <td>clinton3</td>\n",
       "      <td>598</td>\n",
       "      <td>157</td>\n",
       "      <td>920</td>\n",
       "      <td>1</td>\n",
       "    </tr>\n",
       "  </tbody>\n",
       "</table>\n",
       "<p>9999 rows × 10 columns</p>\n",
       "</div>"
      ],
      "text/plain": [
       "          id     user_id  number_of_ticks            date_created  \\\n",
       "0     152396  2147303785                1   \"2019-12-12 06:41:37\"   \n",
       "1     155271  2147303785                2   \"2019-12-13 03:20:23\"   \n",
       "2     155365  2147303785                7   \"2019-12-13 04:29:29\"   \n",
       "3     155788  2147303785                2   \"2019-12-13 08:43:29\"   \n",
       "4     157625  2147303785                1   \"2019-12-13 23:42:05\"   \n",
       "...      ...         ...              ...                     ...   \n",
       "9994   26059  1890093722                6   \"2019-10-27 15:52:53\"   \n",
       "9995   26075  1890093722                1   \"2019-10-27 16:02:50\"   \n",
       "9996   26076  1890093722                1   \"2019-10-27 16:03:20\"   \n",
       "9997   26104  1890093722                9   \"2019-10-27 16:26:34\"   \n",
       "9998   26101  1890093722               28   \"2019-10-27 16:23:04\"   \n",
       "\n",
       "                chapter        book  numberofentriesofbook  \\\n",
       "0       about-this-book      kopec2                    792   \n",
       "1       about-this-book     atencio                    329   \n",
       "2       about-this-book  nickoloff2                   1985   \n",
       "3     about-the-authors  nickoloff2                   1985   \n",
       "4             chapter-1  nickoloff2                   1985   \n",
       "...                 ...         ...                    ...   \n",
       "9994          chapter-3    clinton3                    598   \n",
       "9995          chapter-6    clinton3                    598   \n",
       "9996          chapter-6    clinton3                    598   \n",
       "9997         chapter-12    clinton3                    598   \n",
       "9998         chapter-12    clinton3                    598   \n",
       "\n",
       "      numberofusersofbook  product_manning_id  user_owns_book  \n",
       "0                     337                1073               0  \n",
       "1                     129                 702               0  \n",
       "2                     552                 902               0  \n",
       "3                     552                 902               0  \n",
       "4                     552                 902               0  \n",
       "...                   ...                 ...             ...  \n",
       "9994                  157                 920               1  \n",
       "9995                  157                 920               1  \n",
       "9996                  157                 920               1  \n",
       "9997                  157                 920               1  \n",
       "9998                  157                 920               1  \n",
       "\n",
       "[9999 rows x 10 columns]"
      ]
     },
     "execution_count": 3,
     "metadata": {},
     "output_type": "execute_result"
    }
   ],
   "source": [
    "df"
   ]
  },
  {
   "cell_type": "markdown",
   "metadata": {},
   "source": [
    "Creating the edgelist, first by sorting by user_id and date created."
   ]
  },
  {
   "cell_type": "code",
   "execution_count": 4,
   "metadata": {},
   "outputs": [],
   "source": [
    "df=df.sort_values(by=['user_id','date_created'])\n"
   ]
  },
  {
   "cell_type": "markdown",
   "metadata": {},
   "source": [
    "Then set the book and chapter combined column to equal the source column (Key addition for this assignment compared to the worked example). "
   ]
  },
  {
   "cell_type": "code",
   "execution_count": 5,
   "metadata": {},
   "outputs": [],
   "source": [
    "df[\"book_chapter\"] = df[\"chapter\"].astype(str) + df[\"book\"].astype(str)\n",
    "df[\"source\"]=df[\"book_chapter\"]"
   ]
  },
  {
   "cell_type": "markdown",
   "metadata": {},
   "source": [
    "Shift columns up to create target and user check"
   ]
  },
  {
   "cell_type": "code",
   "execution_count": 6,
   "metadata": {},
   "outputs": [],
   "source": [
    "df[\"target\"]= df[\"source\"].shift(-1)  \n",
    "df[\"user_check\"]= df[\"user_id\"].shift(-1)"
   ]
  },
  {
   "cell_type": "markdown",
   "metadata": {},
   "source": [
    "Drop rows where the user_id is not equal to the id_check"
   ]
  },
  {
   "cell_type": "code",
   "execution_count": 7,
   "metadata": {},
   "outputs": [],
   "source": [
    "df['keep_drop'] = np.where((df['user_check'] == df['user_id'])\n",
    "                     , df['user_id'], np.nan)"
   ]
  },
  {
   "cell_type": "code",
   "execution_count": 8,
   "metadata": {},
   "outputs": [],
   "source": [
    "df=df.dropna(subset=[\"keep_drop\"])"
   ]
  },
  {
   "cell_type": "markdown",
   "metadata": {},
   "source": [
    "Create and draw the network from the edgelist"
   ]
  },
  {
   "cell_type": "code",
   "execution_count": 9,
   "metadata": {},
   "outputs": [],
   "source": [
    "G=nx.from_pandas_edgelist(df,\"source\",'target', create_using=nx.DiGraph)"
   ]
  },
  {
   "cell_type": "code",
   "execution_count": 10,
   "metadata": {},
   "outputs": [
    {
     "data": {
      "image/png": "[encoded data removed]",
      "text/plain": [
       "<Figure size 432x288 with 1 Axes>"
      ]
     },
     "metadata": {},
     "output_type": "display_data"
    }
   ],
   "source": [
    "nx.draw(G)\n"
   ]
  },
  {
   "cell_type": "code",
   "execution_count": 12,
   "metadata": {},
   "outputs": [],
   "source": [
    "df.to_csv('data_for_gephi.csv')"
   ]
  },
  {
   "cell_type": "code",
   "execution_count": null,
   "metadata": {},
   "outputs": [],
   "source": []
  },
  {
   "cell_type": "code",
   "execution_count": null,
   "metadata": {},
   "outputs": [],
   "source": []
  },
  {
   "cell_type": "code",
   "execution_count": null,
   "metadata": {},
   "outputs": [],
   "source": []
  },
  {
   "cell_type": "code",
   "execution_count": null,
   "metadata": {},
   "outputs": [],
   "source": []
  },
  {
   "cell_type": "code",
   "execution_count": null,
   "metadata": {},
   "outputs": [],
   "source": []
  },
  {
   "cell_type": "code",
   "execution_count": null,
   "metadata": {},
   "outputs": [],
   "source": []
  },
  {
   "cell_type": "code",
   "execution_count": null,
   "metadata": {},
   "outputs": [],
   "source": []
  },
  {
   "cell_type": "code",
   "execution_count": null,
   "metadata": {},
   "outputs": [],
   "source": [
    "\n"
   ]
  },
  {
   "cell_type": "code",
   "execution_count": null,
   "metadata": {},
   "outputs": [],
   "source": []
  },
  {
   "cell_type": "code",
   "execution_count": null,
   "metadata": {},
   "outputs": [],
   "source": []
  },
  {
   "cell_type": "code",
   "execution_count": null,
   "metadata": {},
   "outputs": [],
   "source": []
  },
  {
   "cell_type": "code",
   "execution_count": null,
   "metadata": {},
   "outputs": [],
   "source": []
  },
  {
   "cell_type": "code",
   "execution_count": null,
   "metadata": {},
   "outputs": [],
   "source": []
  },
  {
   "cell_type": "code",
   "execution_count": null,
   "metadata": {},
   "outputs": [],
   "source": []
  },
  {
   "cell_type": "code",
   "execution_count": null,
   "metadata": {},
   "outputs": [],
   "source": []
  },
  {
   "cell_type": "code",
   "execution_count": null,
   "metadata": {},
   "outputs": [],
   "source": []
  },
  {
   "cell_type": "code",
   "execution_count": null,
   "metadata": {},
   "outputs": [],
   "source": []
  },
  {
   "cell_type": "code",
   "execution_count": null,
   "metadata": {},
   "outputs": [],
   "source": []
  },
  {
   "cell_type": "code",
   "execution_count": null,
   "metadata": {},
   "outputs": [],
   "source": [
    "\n"
   ]
  },
  {
   "cell_type": "code",
   "execution_count": null,
   "metadata": {},
   "outputs": [],
   "source": []
  },
  {
   "cell_type": "code",
   "execution_count": null,
   "metadata": {},
   "outputs": [],
   "source": []
  },
  {
   "cell_type": "code",
   "execution_count": null,
   "metadata": {},
   "outputs": [],
   "source": []
  },
  {
   "cell_type": "code",
   "execution_count": null,
   "metadata": {},
   "outputs": [],
   "source": []
  },
  {
   "cell_type": "code",
   "execution_count": null,
   "metadata": {},
   "outputs": [],
   "source": []
  },
  {
   "cell_type": "code",
   "execution_count": null,
   "metadata": {},
   "outputs": [],
   "source": []
  },
  {
   "cell_type": "code",
   "execution_count": null,
   "metadata": {},
   "outputs": [],
   "source": []
  },
  {
   "cell_type": "code",
   "execution_count": null,
   "metadata": {},
   "outputs": [],
   "source": []
  },
  {
   "cell_type": "code",
   "execution_count": null,
   "metadata": {},
   "outputs": [],
   "source": []
  },
  {
   "cell_type": "code",
   "execution_count": null,
   "metadata": {},
   "outputs": [],
   "source": []
  },
  {
   "cell_type": "code",
   "execution_count": null,
   "metadata": {},
   "outputs": [],
   "source": []
  },
  {
   "cell_type": "code",
   "execution_count": null,
   "metadata": {},
   "outputs": [],
   "source": []
  },
  {
   "cell_type": "code",
   "execution_count": null,
   "metadata": {},
   "outputs": [],
   "source": []
  },
  {
   "cell_type": "code",
   "execution_count": null,
   "metadata": {},
   "outputs": [],
   "source": []
  }
 ],
 "metadata": {
  "kernelspec": {
   "display_name": "Python 3",
   "language": "python",
   "name": "python3"
  },
  "language_info": {
   "codemirror_mode": {
    "name": "ipython",
    "version": 3
   },
   "file_extension": ".py",
   "mimetype": "text/x-python",
   "name": "python",
   "nbconvert_exporter": "python",
   "pygments_lexer": "ipython3",
   "version": "3.7.6"
  }
 },
 "nbformat": 4,
 "nbformat_minor": 2
}
