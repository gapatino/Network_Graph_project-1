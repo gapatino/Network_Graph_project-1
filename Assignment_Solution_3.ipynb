{
 "cells": [
  {
   "cell_type": "markdown",
   "metadata": {},
   "source": [
    "\n",
    "Import Statement"
   ]
  },
  {
   "cell_type": "code",
   "execution_count": 1,
   "metadata": {},
   "outputs": [],
   "source": [
    "import pandas as pd\n",
    "import numpy as np\n",
    "import networkx as nx\n",
    "import matplotlib.pyplot as plt\n",
    "\n"
   ]
  },
  {
   "cell_type": "markdown",
   "metadata": {},
   "source": [
    "Create the network as in section 1"
   ]
  },
  {
   "cell_type": "code",
   "execution_count": 2,
   "metadata": {},
   "outputs": [],
   "source": [
    "df= pd.read_csv('datasets\\dataset.csv')\n",
    "df=df.sort_values(by=['user_id','date_created'])\n",
    "df[\"book_chapter\"] = df[\"chapter\"].astype(str) + df[\"book\"].astype(str)\n",
    "df[\"source\"] =df[\"book_chapter\"]\n",
    "df[\"target\"]= df[\"source\"].shift(-1)  \n",
    "df[\"user_check\"]= df[\"user_id\"].shift(-1)\n",
    "df['keep_drop'] = np.where((df['user_check'] == df['user_id'])\n",
    "                     , df['user_id'], np.nan)\n",
    "df=df.dropna(subset=[\"keep_drop\"])\n",
    "G=nx.from_pandas_edgelist(df,\"source\",'target', create_using=nx.DiGraph)"
   ]
  },
  {
   "cell_type": "markdown",
   "metadata": {},
   "source": [
    "Calculate the centrality measure for the nodes"
   ]
  },
  {
   "cell_type": "code",
   "execution_count": 3,
   "metadata": {},
   "outputs": [],
   "source": [
    "out=nx.out_degree_centrality(G)\n",
    "nx.set_node_attributes(G, out, 'out-degree')"
   ]
  },
  {
   "cell_type": "code",
   "execution_count": 4,
   "metadata": {},
   "outputs": [],
   "source": [
    "bb = nx.betweenness_centrality(G)\n",
    "nx.set_node_attributes(G, bb, 'betweenness')\n"
   ]
  },
  {
   "cell_type": "code",
   "execution_count": 5,
   "metadata": {},
   "outputs": [],
   "source": [
    "eigen= nx.eigenvector_centrality(G)\n",
    "nx.set_node_attributes(G, eigen, 'eigen')"
   ]
  },
  {
   "cell_type": "markdown",
   "metadata": {},
   "source": [
    "Create a list of all the chapter and all the centrality"
   ]
  },
  {
   "cell_type": "code",
   "execution_count": 6,
   "metadata": {},
   "outputs": [],
   "source": [
    "data_list=list(G.nodes(data=True))"
   ]
  },
  {
   "cell_type": "markdown",
   "metadata": {},
   "source": [
    "Convert the list into a dictionary with chapter as the key and the centrality measures as values."
   ]
  },
  {
   "cell_type": "code",
   "execution_count": 7,
   "metadata": {},
   "outputs": [
    {
     "data": {
      "text/html": [
       "<div>\n",
       "<style scoped>\n",
       "    .dataframe tbody tr th:only-of-type {\n",
       "        vertical-align: middle;\n",
       "    }\n",
       "\n",
       "    .dataframe tbody tr th {\n",
       "        vertical-align: top;\n",
       "    }\n",
       "\n",
       "    .dataframe thead th {\n",
       "        text-align: right;\n",
       "    }\n",
       "</style>\n",
       "<table border=\"1\" class=\"dataframe\">\n",
       "  <thead>\n",
       "    <tr style=\"text-align: right;\">\n",
       "      <th></th>\n",
       "      <th>book_chapter</th>\n",
       "      <th>out-degree</th>\n",
       "      <th>eigen</th>\n",
       "      <th>betweenness</th>\n",
       "    </tr>\n",
       "  </thead>\n",
       "  <tbody>\n",
       "    <tr>\n",
       "      <th>0</th>\n",
       "      <td>chapter-11clinton3</td>\n",
       "      <td>0.001004</td>\n",
       "      <td>1.814720e-28</td>\n",
       "      <td>0.000000</td>\n",
       "    </tr>\n",
       "    <tr>\n",
       "      <th>1</th>\n",
       "      <td>chapter-12clinton3</td>\n",
       "      <td>0.001004</td>\n",
       "      <td>7.633365e-04</td>\n",
       "      <td>0.000822</td>\n",
       "    </tr>\n",
       "    <tr>\n",
       "      <th>2</th>\n",
       "      <td>chapter-3clinton3</td>\n",
       "      <td>0.002007</td>\n",
       "      <td>1.244880e-02</td>\n",
       "      <td>0.002502</td>\n",
       "    </tr>\n",
       "    <tr>\n",
       "      <th>3</th>\n",
       "      <td>chapter-6clinton3</td>\n",
       "      <td>0.001004</td>\n",
       "      <td>3.082603e-03</td>\n",
       "      <td>0.000377</td>\n",
       "    </tr>\n",
       "    <tr>\n",
       "      <th>4</th>\n",
       "      <td>about-this-bookbjarnason</td>\n",
       "      <td>0.002007</td>\n",
       "      <td>3.560926e-03</td>\n",
       "      <td>0.008865</td>\n",
       "    </tr>\n",
       "    <tr>\n",
       "      <th>...</th>\n",
       "      <td>...</td>\n",
       "      <td>...</td>\n",
       "      <td>...</td>\n",
       "      <td>...</td>\n",
       "    </tr>\n",
       "    <tr>\n",
       "      <th>1989</th>\n",
       "      <td>chapter-3sholmes2</td>\n",
       "      <td>0.000502</td>\n",
       "      <td>9.223888e-04</td>\n",
       "      <td>0.000000</td>\n",
       "    </tr>\n",
       "    <tr>\n",
       "      <th>1990</th>\n",
       "      <td>chapter-12sholmes2</td>\n",
       "      <td>0.000502</td>\n",
       "      <td>2.738893e-04</td>\n",
       "      <td>0.000378</td>\n",
       "    </tr>\n",
       "    <tr>\n",
       "      <th>1991</th>\n",
       "      <td>appendix-bsholmes2</td>\n",
       "      <td>0.000000</td>\n",
       "      <td>5.438649e-05</td>\n",
       "      <td>0.000000</td>\n",
       "    </tr>\n",
       "    <tr>\n",
       "      <th>1992</th>\n",
       "      <td>about-the-authorsnickoloff2</td>\n",
       "      <td>0.000502</td>\n",
       "      <td>7.732873e-03</td>\n",
       "      <td>0.000000</td>\n",
       "    </tr>\n",
       "    <tr>\n",
       "      <th>1993</th>\n",
       "      <td>chapter-1ceder</td>\n",
       "      <td>0.001004</td>\n",
       "      <td>1.886914e-03</td>\n",
       "      <td>0.000159</td>\n",
       "    </tr>\n",
       "  </tbody>\n",
       "</table>\n",
       "<p>1994 rows × 4 columns</p>\n",
       "</div>"
      ],
      "text/plain": [
       "                     book_chapter  out-degree         eigen  betweenness\n",
       "0              chapter-11clinton3    0.001004  1.814720e-28     0.000000\n",
       "1              chapter-12clinton3    0.001004  7.633365e-04     0.000822\n",
       "2               chapter-3clinton3    0.002007  1.244880e-02     0.002502\n",
       "3               chapter-6clinton3    0.001004  3.082603e-03     0.000377\n",
       "4        about-this-bookbjarnason    0.002007  3.560926e-03     0.008865\n",
       "...                           ...         ...           ...          ...\n",
       "1989            chapter-3sholmes2    0.000502  9.223888e-04     0.000000\n",
       "1990           chapter-12sholmes2    0.000502  2.738893e-04     0.000378\n",
       "1991           appendix-bsholmes2    0.000000  5.438649e-05     0.000000\n",
       "1992  about-the-authorsnickoloff2    0.000502  7.732873e-03     0.000000\n",
       "1993               chapter-1ceder    0.001004  1.886914e-03     0.000159\n",
       "\n",
       "[1994 rows x 4 columns]"
      ]
     },
     "execution_count": 7,
     "metadata": {},
     "output_type": "execute_result"
    }
   ],
   "source": [
    "data={}\n",
    "data['book_chapter']=[x[0] for x in data_list]\n",
    "data['out-degree'] = [x[1]['out-degree'] for x in data_list]\n",
    "data['eigen'] = [x[1]['eigen'] for x in data_list]\n",
    "data['betweenness'] = [x[1]['betweenness'] for x in data_list]\n",
    "df1 = pd.DataFrame(data)\n",
    "df1"
   ]
  },
  {
   "cell_type": "markdown",
   "metadata": {},
   "source": [
    "Calculate what chapter are connected based on the adjacency matrices of a single chapter"
   ]
  },
  {
   "cell_type": "code",
   "execution_count": 8,
   "metadata": {},
   "outputs": [],
   "source": [
    "row1=[n for n in G['chapter-11clinton3']]"
   ]
  },
  {
   "cell_type": "code",
   "execution_count": 9,
   "metadata": {},
   "outputs": [],
   "source": [
    "df2= pd.DataFrame(row1)"
   ]
  },
  {
   "cell_type": "markdown",
   "metadata": {},
   "source": [
    "Join the dataframes by chapter"
   ]
  },
  {
   "cell_type": "code",
   "execution_count": 10,
   "metadata": {},
   "outputs": [],
   "source": [
    "df3=df2.set_index(0).join(df1.set_index('book_chapter'))"
   ]
  },
  {
   "cell_type": "markdown",
   "metadata": {},
   "source": [
    "Sort the values by eigenvector in descending order (largest first)"
   ]
  },
  {
   "cell_type": "code",
   "execution_count": 11,
   "metadata": {},
   "outputs": [],
   "source": [
    "df3=df3.sort_values(by=['eigen'],ascending=False)\n"
   ]
  },
  {
   "cell_type": "code",
   "execution_count": 12,
   "metadata": {},
   "outputs": [
    {
     "data": {
      "text/html": [
       "<div>\n",
       "<style scoped>\n",
       "    .dataframe tbody tr th:only-of-type {\n",
       "        vertical-align: middle;\n",
       "    }\n",
       "\n",
       "    .dataframe tbody tr th {\n",
       "        vertical-align: top;\n",
       "    }\n",
       "\n",
       "    .dataframe thead th {\n",
       "        text-align: right;\n",
       "    }\n",
       "</style>\n",
       "<table border=\"1\" class=\"dataframe\">\n",
       "  <thead>\n",
       "    <tr style=\"text-align: right;\">\n",
       "      <th></th>\n",
       "      <th>out-degree</th>\n",
       "      <th>eigen</th>\n",
       "      <th>betweenness</th>\n",
       "    </tr>\n",
       "    <tr>\n",
       "      <th>0</th>\n",
       "      <th></th>\n",
       "      <th></th>\n",
       "      <th></th>\n",
       "    </tr>\n",
       "  </thead>\n",
       "  <tbody>\n",
       "    <tr>\n",
       "      <th>chapter-12clinton3</th>\n",
       "      <td>0.001004</td>\n",
       "      <td>7.633365e-04</td>\n",
       "      <td>0.000822</td>\n",
       "    </tr>\n",
       "    <tr>\n",
       "      <th>chapter-11clinton3</th>\n",
       "      <td>0.001004</td>\n",
       "      <td>1.814720e-28</td>\n",
       "      <td>0.000000</td>\n",
       "    </tr>\n",
       "  </tbody>\n",
       "</table>\n",
       "</div>"
      ],
      "text/plain": [
       "                    out-degree         eigen  betweenness\n",
       "0                                                        \n",
       "chapter-12clinton3    0.001004  7.633365e-04     0.000822\n",
       "chapter-11clinton3    0.001004  1.814720e-28     0.000000"
      ]
     },
     "execution_count": 12,
     "metadata": {},
     "output_type": "execute_result"
    }
   ],
   "source": [
    "df3"
   ]
  },
  {
   "cell_type": "code",
   "execution_count": null,
   "metadata": {},
   "outputs": [],
   "source": []
  }
 ],
 "metadata": {
  "kernelspec": {
   "display_name": "Python 3",
   "language": "python",
   "name": "python3"
  },
  "language_info": {
   "codemirror_mode": {
    "name": "ipython",
    "version": 3
   },
   "file_extension": ".py",
   "mimetype": "text/x-python",
   "name": "python",
   "nbconvert_exporter": "python",
   "pygments_lexer": "ipython3",
   "version": "3.7.6"
  }
 },
 "nbformat": 4,
 "nbformat_minor": 2
}
