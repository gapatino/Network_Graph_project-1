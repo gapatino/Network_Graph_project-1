{
 "cells": [
  {
   "cell_type": "code",
   "execution_count": 1,
   "metadata": {},
   "outputs": [],
   "source": [
    "import pandas as pd\n",
    "import numpy as np\n",
    "import networkx as nx\n",
    "import matplotlib.pyplot as plt\n",
    "from ipywidgets import interact, Select\n",
    "from IPython.display import display\n",
    "from IPython.display import Image"
   ]
  },
  {
   "cell_type": "markdown",
   "metadata": {},
   "source": [
    "<h1>Book recommendation Network</h1>"
   ]
  },
  {
   "cell_type": "markdown",
   "metadata": {},
   "source": [
    "![Simple network image 2.png](https://github.com/timesend/Manning-Networks/blob/master/pictures/Simple%20network%20image%202.png?raw=true)"
   ]
  },
  {
   "cell_type": "code",
   "execution_count": 2,
   "metadata": {},
   "outputs": [],
   "source": [
    "df= pd.read_csv('datasets\\dataset.csv')\n",
    "df=df.sort_values(by=['user_id','date_created'])\n",
    "df[\"chapter\"] = df[\"chapter\"].astype(str)\n",
    "df[\"book_chapter\"] = df[\"book\"].astype(str) +df[\"chapter\"].astype(str)\n",
    "df[\"source\"] =df[\"book_chapter\"]\n",
    "df[\"target\"]= df[\"source\"].shift(-1)  \n",
    "df[\"user_check\"]= df[\"user_id\"].shift(-1)\n",
    "df['keep_drop'] = np.where((df['user_id'] == df['user_id'].shift(-1))\n",
    "                     , df['user_id'], np.nan)\n",
    "df=df.dropna(subset=[\"keep_drop\"])\n",
    "G=nx.from_pandas_edgelist(df,\"source\",'target', create_using=nx.DiGraph)\n",
    "out=nx.out_degree_centrality(G)\n",
    "nx.set_node_attributes(G, out, 'out-degree')\n",
    "bb = nx.betweenness_centrality(G)\n",
    "nx.set_node_attributes(G, bb, 'betweenness')\n",
    "close= nx.closeness_centrality(G)\n",
    "nx.set_node_attributes(G, close, 'close')\n",
    "eigen= nx.eigenvector_centrality(G)\n",
    "nx.set_node_attributes(G, eigen, 'eigen')\n",
    "data_list=list(G.nodes(data=True))\n",
    "data={}\n",
    "data['book_chapter']=[x[0] for x in data_list]\n",
    "data['out-degree'] = [x[1]['out-degree'] for x in data_list]\n",
    "data['eigen'] = [x[1]['eigen'] for x in data_list]\n",
    "data['betweenness'] = [x[1]['betweenness'] for x in data_list]\n",
    "df1 = pd.DataFrame(data)\n"
   ]
  },
  {
   "cell_type": "code",
   "execution_count": 3,
   "metadata": {},
   "outputs": [
    {
     "data": {
      "application/vnd.jupyter.widget-view+json": {
       "model_id": "713109b492644e0d8a6081187d6fa771",
       "version_major": 2,
       "version_minor": 0
      },
      "text/plain": [
       "interactive(children=(Select(description='book_chapter', options=('abernethy2chapter-10', 'abernethy2chapter-6…"
      ]
     },
     "metadata": {},
     "output_type": "display_data"
    },
    {
     "data": {
      "text/plain": [
       "<function __main__.view(book_chapter='')>"
      ]
     },
     "metadata": {},
     "output_type": "display_data"
    }
   ],
   "source": [
    "book_chapter=sorted(df.book_chapter.unique().tolist())\n",
    "def view(book_chapter=''):\n",
    "    row1=[n for n in G[book_chapter]]\n",
    "    df2= pd.DataFrame(row1)\n",
    "    df3=df2.set_index(0).join(df1.set_index('book_chapter'))\n",
    "    df3=df3.sort_values(by=['eigen'],ascending=False)\n",
    "    df3=df3.rename_axis('book_chapter')\n",
    "    return df3\n",
    "\n",
    "w = Select(options=book_chapter)\n",
    "v = interact(view, book_chapter=w)\n",
    "display(v)"
   ]
  },
  {
   "cell_type": "code",
   "execution_count": null,
   "metadata": {},
   "outputs": [],
   "source": []
  }
 ],
 "metadata": {
  "kernelspec": {
   "display_name": "Python 3",
   "language": "python",
   "name": "python3"
  },
  "language_info": {
   "codemirror_mode": {
    "name": "ipython",
    "version": 3
   },
   "file_extension": ".py",
   "mimetype": "text/x-python",
   "name": "python",
   "nbconvert_exporter": "python",
   "pygments_lexer": "ipython3",
   "version": "3.7.6"
  }
 },
 "nbformat": 4,
 "nbformat_minor": 4
}
